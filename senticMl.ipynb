{
 "cells": [
  {
   "cell_type": "markdown",
   "metadata": {},
   "source": [
    "# Сравнение моделей машинного обучения для прогнозирования ставки аукциона"
   ]
  },
  {
   "cell_type": "code",
   "execution_count": 9,
   "metadata": {},
   "outputs": [],
   "source": [
    "import warnings\n",
    "warnings.filterwarnings('ignore')\n",
    "\n",
    "MIN_BUDGET = 250\n",
    "LOWER_BID = 0.12\n",
    "UPPER_BID = 4\n",
    "KPI = ('roi', 'cpa')\n",
    "KPI_VALUE = 3\n",
    "MEMORY_FACTOR = 0.95"
   ]
  },
  {
   "cell_type": "markdown",
   "metadata": {},
   "source": [
    "Для задачи прогнозирования и оптимизации BidAlgorithm использует Matlab  функции, которые работют как черный ящик. Для того, чтобы сравнение работы алгоритма и моделей машинного обучения было более точным мы использвали Matlab APi для Python, чтобы получить прогнозные значения ставок, как если бы мы запускали Sentic BidAlgorithm."
   ]
  },
  {
   "cell_type": "code",
   "execution_count": 10,
   "metadata": {},
   "outputs": [],
   "source": [
    "import pandas as pd\n",
    "import numpy as np\n",
    "\n",
    "bidAlgorithm_linear_constraid = pd.read_excel('bidAlgorithm_linear_constraid.xlsx')\n",
    "train = pd.read_excel('bidAlgorithm_c_factors.xlsx')\n",
    "train.columns = ['bid', 'cpc', 'q_score', 'exact', 'broad', 'phraze']\n",
    "test = pd.read_excel('bidAlgorithm_pred_x.xlsx')\n",
    "test.columns = ['predicted_bid', 'cpc', 'q_scire', 'exact', 'broad', 'phraze']\n",
    "bid_algorithm_predicted_bid = test['predicted_bid']\n",
    "test.drop(columns=['predicted_bid'], inplace=True)"
   ]
  },
  {
   "cell_type": "markdown",
   "metadata": {},
   "source": [
    "# Данные"
   ]
  },
  {
   "cell_type": "markdown",
   "metadata": {},
   "source": [
    "Перед началом использование моделей машинного обучения проведем анализ предоставленных данных."
   ]
  },
  {
   "cell_type": "code",
   "execution_count": 11,
   "metadata": {},
   "outputs": [
    {
     "data": {
      "text/html": [
       "<div>\n",
       "<style scoped>\n",
       "    .dataframe tbody tr th:only-of-type {\n",
       "        vertical-align: middle;\n",
       "    }\n",
       "\n",
       "    .dataframe tbody tr th {\n",
       "        vertical-align: top;\n",
       "    }\n",
       "\n",
       "    .dataframe thead th {\n",
       "        text-align: right;\n",
       "    }\n",
       "</style>\n",
       "<table border=\"1\" class=\"dataframe\">\n",
       "  <thead>\n",
       "    <tr style=\"text-align: right;\">\n",
       "      <th></th>\n",
       "      <th>Date</th>\n",
       "      <th>Max CPC</th>\n",
       "      <th>Match Type</th>\n",
       "      <th>kw</th>\n",
       "      <th>Quality Score</th>\n",
       "      <th>Clicks</th>\n",
       "      <th>Impressions</th>\n",
       "      <th>Cost</th>\n",
       "      <th>Conversions</th>\n",
       "      <th>Revenue</th>\n",
       "      <th>datevalue</th>\n",
       "    </tr>\n",
       "  </thead>\n",
       "  <tbody>\n",
       "    <tr>\n",
       "      <th>0</th>\n",
       "      <td>4/24/2019</td>\n",
       "      <td>1.17</td>\n",
       "      <td>1</td>\n",
       "      <td>40555006</td>\n",
       "      <td>0</td>\n",
       "      <td>0</td>\n",
       "      <td>0</td>\n",
       "      <td>0.00</td>\n",
       "      <td>0</td>\n",
       "      <td>0.0</td>\n",
       "      <td>43579</td>\n",
       "    </tr>\n",
       "    <tr>\n",
       "      <th>1</th>\n",
       "      <td>4/25/2019</td>\n",
       "      <td>1.17</td>\n",
       "      <td>1</td>\n",
       "      <td>40555006</td>\n",
       "      <td>7</td>\n",
       "      <td>2</td>\n",
       "      <td>27</td>\n",
       "      <td>1.68</td>\n",
       "      <td>0</td>\n",
       "      <td>0.0</td>\n",
       "      <td>43580</td>\n",
       "    </tr>\n",
       "    <tr>\n",
       "      <th>2</th>\n",
       "      <td>4/26/2019</td>\n",
       "      <td>1.17</td>\n",
       "      <td>1</td>\n",
       "      <td>40555006</td>\n",
       "      <td>8</td>\n",
       "      <td>0</td>\n",
       "      <td>45</td>\n",
       "      <td>0.00</td>\n",
       "      <td>0</td>\n",
       "      <td>0.0</td>\n",
       "      <td>43581</td>\n",
       "    </tr>\n",
       "    <tr>\n",
       "      <th>3</th>\n",
       "      <td>4/27/2019</td>\n",
       "      <td>1.17</td>\n",
       "      <td>1</td>\n",
       "      <td>40555006</td>\n",
       "      <td>8</td>\n",
       "      <td>0</td>\n",
       "      <td>34</td>\n",
       "      <td>0.00</td>\n",
       "      <td>0</td>\n",
       "      <td>0.0</td>\n",
       "      <td>43582</td>\n",
       "    </tr>\n",
       "    <tr>\n",
       "      <th>4</th>\n",
       "      <td>4/28/2019</td>\n",
       "      <td>1.17</td>\n",
       "      <td>1</td>\n",
       "      <td>40555006</td>\n",
       "      <td>8</td>\n",
       "      <td>0</td>\n",
       "      <td>22</td>\n",
       "      <td>0.00</td>\n",
       "      <td>0</td>\n",
       "      <td>0.0</td>\n",
       "      <td>43583</td>\n",
       "    </tr>\n",
       "  </tbody>\n",
       "</table>\n",
       "</div>"
      ],
      "text/plain": [
       "        Date  Max CPC  Match Type        kw  Quality Score  Clicks  \\\n",
       "0  4/24/2019     1.17           1  40555006              0       0   \n",
       "1  4/25/2019     1.17           1  40555006              7       2   \n",
       "2  4/26/2019     1.17           1  40555006              8       0   \n",
       "3  4/27/2019     1.17           1  40555006              8       0   \n",
       "4  4/28/2019     1.17           1  40555006              8       0   \n",
       "\n",
       "   Impressions  Cost  Conversions  Revenue  datevalue  \n",
       "0            0  0.00            0      0.0      43579  \n",
       "1           27  1.68            0      0.0      43580  \n",
       "2           45  0.00            0      0.0      43581  \n",
       "3           34  0.00            0      0.0      43582  \n",
       "4           22  0.00            0      0.0      43583  "
      ]
     },
     "execution_count": 11,
     "metadata": {},
     "output_type": "execute_result"
    }
   ],
   "source": [
    "pd.set_option('display.precision', 2)\n",
    "data = pd.read_excel('test2csv.xlsx')\n",
    "data.head()"
   ]
  },
  {
   "cell_type": "markdown",
   "metadata": {},
   "source": [
    "Комплексная инфомация о данных"
   ]
  },
  {
   "cell_type": "code",
   "execution_count": 12,
   "metadata": {},
   "outputs": [
    {
     "name": "stdout",
     "output_type": "stream",
     "text": [
      "<class 'pandas.core.frame.DataFrame'>\n",
      "RangeIndex: 5130 entries, 0 to 5129\n",
      "Data columns (total 11 columns):\n",
      " #   Column         Non-Null Count  Dtype  \n",
      "---  ------         --------------  -----  \n",
      " 0   Date           5130 non-null   object \n",
      " 1   Max CPC        5130 non-null   float64\n",
      " 2   Match Type     5130 non-null   int64  \n",
      " 3   kw             5130 non-null   int64  \n",
      " 4   Quality Score  5130 non-null   int64  \n",
      " 5   Clicks         5130 non-null   int64  \n",
      " 6   Impressions    5130 non-null   int64  \n",
      " 7   Cost           5130 non-null   float64\n",
      " 8   Conversions    5130 non-null   int64  \n",
      " 9   Revenue        5130 non-null   float64\n",
      " 10  datevalue      5130 non-null   int64  \n",
      "dtypes: float64(3), int64(7), object(1)\n",
      "memory usage: 441.0+ KB\n"
     ]
    }
   ],
   "source": [
    "data.info()"
   ]
  },
  {
   "cell_type": "markdown",
   "metadata": {},
   "source": [
    "Для быстрого получения статистической информации о данных воспользуемся методом describe() в целях получения статистических характеристик для каждого числового признака (float и int типы): количество непропущенных значений, среднее значение, стандартное отклонение, значения минимума и максимума, а также 0.25, 0.5 и 0.75 квартили:"
   ]
  },
  {
   "cell_type": "code",
   "execution_count": 13,
   "metadata": {},
   "outputs": [
    {
     "data": {
      "text/html": [
       "<div>\n",
       "<style scoped>\n",
       "    .dataframe tbody tr th:only-of-type {\n",
       "        vertical-align: middle;\n",
       "    }\n",
       "\n",
       "    .dataframe tbody tr th {\n",
       "        vertical-align: top;\n",
       "    }\n",
       "\n",
       "    .dataframe thead th {\n",
       "        text-align: right;\n",
       "    }\n",
       "</style>\n",
       "<table border=\"1\" class=\"dataframe\">\n",
       "  <thead>\n",
       "    <tr style=\"text-align: right;\">\n",
       "      <th></th>\n",
       "      <th>Max CPC</th>\n",
       "      <th>Match Type</th>\n",
       "      <th>kw</th>\n",
       "      <th>Quality Score</th>\n",
       "      <th>Clicks</th>\n",
       "      <th>Impressions</th>\n",
       "      <th>Cost</th>\n",
       "      <th>Conversions</th>\n",
       "      <th>Revenue</th>\n",
       "      <th>datevalue</th>\n",
       "    </tr>\n",
       "  </thead>\n",
       "  <tbody>\n",
       "    <tr>\n",
       "      <th>count</th>\n",
       "      <td>5130.00</td>\n",
       "      <td>5130.00</td>\n",
       "      <td>5.13e+03</td>\n",
       "      <td>5130.00</td>\n",
       "      <td>5130.00</td>\n",
       "      <td>5130.00</td>\n",
       "      <td>5130.00</td>\n",
       "      <td>5.13e+03</td>\n",
       "      <td>5130.00</td>\n",
       "      <td>5130.00</td>\n",
       "    </tr>\n",
       "    <tr>\n",
       "      <th>mean</th>\n",
       "      <td>2.78</td>\n",
       "      <td>1.95</td>\n",
       "      <td>4.07e+07</td>\n",
       "      <td>2.45</td>\n",
       "      <td>0.57</td>\n",
       "      <td>21.62</td>\n",
       "      <td>0.68</td>\n",
       "      <td>4.48e-03</td>\n",
       "      <td>1.84</td>\n",
       "      <td>43623.50</td>\n",
       "    </tr>\n",
       "    <tr>\n",
       "      <th>std</th>\n",
       "      <td>1.06</td>\n",
       "      <td>0.69</td>\n",
       "      <td>1.11e+05</td>\n",
       "      <td>3.18</td>\n",
       "      <td>2.34</td>\n",
       "      <td>58.61</td>\n",
       "      <td>3.29</td>\n",
       "      <td>6.97e-02</td>\n",
       "      <td>32.42</td>\n",
       "      <td>25.98</td>\n",
       "    </tr>\n",
       "    <tr>\n",
       "      <th>min</th>\n",
       "      <td>0.48</td>\n",
       "      <td>1.00</td>\n",
       "      <td>4.06e+07</td>\n",
       "      <td>0.00</td>\n",
       "      <td>0.00</td>\n",
       "      <td>0.00</td>\n",
       "      <td>0.00</td>\n",
       "      <td>0.00e+00</td>\n",
       "      <td>0.00</td>\n",
       "      <td>43579.00</td>\n",
       "    </tr>\n",
       "    <tr>\n",
       "      <th>25%</th>\n",
       "      <td>2.76</td>\n",
       "      <td>1.00</td>\n",
       "      <td>4.06e+07</td>\n",
       "      <td>0.00</td>\n",
       "      <td>0.00</td>\n",
       "      <td>0.00</td>\n",
       "      <td>0.00</td>\n",
       "      <td>0.00e+00</td>\n",
       "      <td>0.00</td>\n",
       "      <td>43601.00</td>\n",
       "    </tr>\n",
       "    <tr>\n",
       "      <th>50%</th>\n",
       "      <td>2.88</td>\n",
       "      <td>2.00</td>\n",
       "      <td>4.08e+07</td>\n",
       "      <td>0.00</td>\n",
       "      <td>0.00</td>\n",
       "      <td>0.00</td>\n",
       "      <td>0.00</td>\n",
       "      <td>0.00e+00</td>\n",
       "      <td>0.00</td>\n",
       "      <td>43623.50</td>\n",
       "    </tr>\n",
       "    <tr>\n",
       "      <th>75%</th>\n",
       "      <td>3.40</td>\n",
       "      <td>2.00</td>\n",
       "      <td>4.08e+07</td>\n",
       "      <td>6.00</td>\n",
       "      <td>0.00</td>\n",
       "      <td>9.00</td>\n",
       "      <td>0.00</td>\n",
       "      <td>0.00e+00</td>\n",
       "      <td>0.00</td>\n",
       "      <td>43646.00</td>\n",
       "    </tr>\n",
       "    <tr>\n",
       "      <th>max</th>\n",
       "      <td>4.00</td>\n",
       "      <td>3.00</td>\n",
       "      <td>4.08e+07</td>\n",
       "      <td>10.00</td>\n",
       "      <td>35.00</td>\n",
       "      <td>556.00</td>\n",
       "      <td>62.13</td>\n",
       "      <td>2.00e+00</td>\n",
       "      <td>1227.97</td>\n",
       "      <td>43668.00</td>\n",
       "    </tr>\n",
       "  </tbody>\n",
       "</table>\n",
       "</div>"
      ],
      "text/plain": [
       "       Max CPC  Match Type        kw  Quality Score   Clicks  Impressions  \\\n",
       "count  5130.00     5130.00  5.13e+03        5130.00  5130.00      5130.00   \n",
       "mean      2.78        1.95  4.07e+07           2.45     0.57        21.62   \n",
       "std       1.06        0.69  1.11e+05           3.18     2.34        58.61   \n",
       "min       0.48        1.00  4.06e+07           0.00     0.00         0.00   \n",
       "25%       2.76        1.00  4.06e+07           0.00     0.00         0.00   \n",
       "50%       2.88        2.00  4.08e+07           0.00     0.00         0.00   \n",
       "75%       3.40        2.00  4.08e+07           6.00     0.00         9.00   \n",
       "max       4.00        3.00  4.08e+07          10.00    35.00       556.00   \n",
       "\n",
       "          Cost  Conversions  Revenue  datevalue  \n",
       "count  5130.00     5.13e+03  5130.00    5130.00  \n",
       "mean      0.68     4.48e-03     1.84   43623.50  \n",
       "std       3.29     6.97e-02    32.42      25.98  \n",
       "min       0.00     0.00e+00     0.00   43579.00  \n",
       "25%       0.00     0.00e+00     0.00   43601.00  \n",
       "50%       0.00     0.00e+00     0.00   43623.50  \n",
       "75%       0.00     0.00e+00     0.00   43646.00  \n",
       "max      62.13     2.00e+00  1227.97   43668.00  "
      ]
     },
     "execution_count": 13,
     "metadata": {},
     "output_type": "execute_result"
    }
   ],
   "source": [
    "data.describe()"
   ]
  },
  {
   "cell_type": "markdown",
   "metadata": {},
   "source": [
    "Сгруппируем данные по номеру ключевого слова и расчитаем основные средние характеристики: показы, клики, стоимость, конверсия, доход."
   ]
  },
  {
   "cell_type": "code",
   "execution_count": 14,
   "metadata": {},
   "outputs": [
    {
     "data": {
      "text/html": [
       "<div>\n",
       "<style scoped>\n",
       "    .dataframe tbody tr th:only-of-type {\n",
       "        vertical-align: middle;\n",
       "    }\n",
       "\n",
       "    .dataframe tbody tr th {\n",
       "        vertical-align: top;\n",
       "    }\n",
       "\n",
       "    .dataframe thead tr th {\n",
       "        text-align: left;\n",
       "    }\n",
       "\n",
       "    .dataframe thead tr:last-of-type th {\n",
       "        text-align: right;\n",
       "    }\n",
       "</style>\n",
       "<table border=\"1\" class=\"dataframe\">\n",
       "  <thead>\n",
       "    <tr>\n",
       "      <th></th>\n",
       "      <th colspan=\"4\" halign=\"left\">Clicks</th>\n",
       "      <th colspan=\"4\" halign=\"left\">Impressions</th>\n",
       "      <th colspan=\"4\" halign=\"left\">Cost</th>\n",
       "      <th colspan=\"4\" halign=\"left\">Conversions</th>\n",
       "      <th colspan=\"4\" halign=\"left\">Revenue</th>\n",
       "    </tr>\n",
       "    <tr>\n",
       "      <th></th>\n",
       "      <th>mean</th>\n",
       "      <th>std</th>\n",
       "      <th>amin</th>\n",
       "      <th>amax</th>\n",
       "      <th>mean</th>\n",
       "      <th>std</th>\n",
       "      <th>amin</th>\n",
       "      <th>amax</th>\n",
       "      <th>mean</th>\n",
       "      <th>std</th>\n",
       "      <th>amin</th>\n",
       "      <th>amax</th>\n",
       "      <th>mean</th>\n",
       "      <th>std</th>\n",
       "      <th>amin</th>\n",
       "      <th>amax</th>\n",
       "      <th>mean</th>\n",
       "      <th>std</th>\n",
       "      <th>amin</th>\n",
       "      <th>amax</th>\n",
       "    </tr>\n",
       "    <tr>\n",
       "      <th>kw</th>\n",
       "      <th></th>\n",
       "      <th></th>\n",
       "      <th></th>\n",
       "      <th></th>\n",
       "      <th></th>\n",
       "      <th></th>\n",
       "      <th></th>\n",
       "      <th></th>\n",
       "      <th></th>\n",
       "      <th></th>\n",
       "      <th></th>\n",
       "      <th></th>\n",
       "      <th></th>\n",
       "      <th></th>\n",
       "      <th></th>\n",
       "      <th></th>\n",
       "      <th></th>\n",
       "      <th></th>\n",
       "      <th></th>\n",
       "      <th></th>\n",
       "    </tr>\n",
       "  </thead>\n",
       "  <tbody>\n",
       "    <tr>\n",
       "      <th>40555006</th>\n",
       "      <td>0.79</td>\n",
       "      <td>1.20</td>\n",
       "      <td>0</td>\n",
       "      <td>5</td>\n",
       "      <td>19.43</td>\n",
       "      <td>13.83</td>\n",
       "      <td>0</td>\n",
       "      <td>55</td>\n",
       "      <td>0.54</td>\n",
       "      <td>0.89</td>\n",
       "      <td>0.0</td>\n",
       "      <td>4.74</td>\n",
       "      <td>0.00</td>\n",
       "      <td>0.00</td>\n",
       "      <td>0</td>\n",
       "      <td>0</td>\n",
       "      <td>0.00</td>\n",
       "      <td>0.00</td>\n",
       "      <td>0.0</td>\n",
       "      <td>0.00</td>\n",
       "    </tr>\n",
       "    <tr>\n",
       "      <th>40555007</th>\n",
       "      <td>2.88</td>\n",
       "      <td>4.28</td>\n",
       "      <td>0</td>\n",
       "      <td>21</td>\n",
       "      <td>96.68</td>\n",
       "      <td>101.93</td>\n",
       "      <td>0</td>\n",
       "      <td>379</td>\n",
       "      <td>1.71</td>\n",
       "      <td>2.59</td>\n",
       "      <td>0.0</td>\n",
       "      <td>12.72</td>\n",
       "      <td>0.02</td>\n",
       "      <td>0.15</td>\n",
       "      <td>0</td>\n",
       "      <td>1</td>\n",
       "      <td>8.88</td>\n",
       "      <td>59.38</td>\n",
       "      <td>0.0</td>\n",
       "      <td>428.99</td>\n",
       "    </tr>\n",
       "    <tr>\n",
       "      <th>40555008</th>\n",
       "      <td>0.00</td>\n",
       "      <td>0.00</td>\n",
       "      <td>0</td>\n",
       "      <td>0</td>\n",
       "      <td>0.00</td>\n",
       "      <td>0.00</td>\n",
       "      <td>0</td>\n",
       "      <td>0</td>\n",
       "      <td>0.00</td>\n",
       "      <td>0.00</td>\n",
       "      <td>0.0</td>\n",
       "      <td>0.00</td>\n",
       "      <td>0.00</td>\n",
       "      <td>0.00</td>\n",
       "      <td>0</td>\n",
       "      <td>0</td>\n",
       "      <td>0.00</td>\n",
       "      <td>0.00</td>\n",
       "      <td>0.0</td>\n",
       "      <td>0.00</td>\n",
       "    </tr>\n",
       "    <tr>\n",
       "      <th>40555009</th>\n",
       "      <td>0.53</td>\n",
       "      <td>0.74</td>\n",
       "      <td>0</td>\n",
       "      <td>3</td>\n",
       "      <td>14.11</td>\n",
       "      <td>7.50</td>\n",
       "      <td>0</td>\n",
       "      <td>33</td>\n",
       "      <td>0.43</td>\n",
       "      <td>0.61</td>\n",
       "      <td>0.0</td>\n",
       "      <td>2.98</td>\n",
       "      <td>0.00</td>\n",
       "      <td>0.00</td>\n",
       "      <td>0</td>\n",
       "      <td>0</td>\n",
       "      <td>0.00</td>\n",
       "      <td>0.00</td>\n",
       "      <td>0.0</td>\n",
       "      <td>0.00</td>\n",
       "    </tr>\n",
       "    <tr>\n",
       "      <th>40555010</th>\n",
       "      <td>1.77</td>\n",
       "      <td>2.09</td>\n",
       "      <td>0</td>\n",
       "      <td>10</td>\n",
       "      <td>61.88</td>\n",
       "      <td>28.49</td>\n",
       "      <td>0</td>\n",
       "      <td>137</td>\n",
       "      <td>1.14</td>\n",
       "      <td>1.40</td>\n",
       "      <td>0.0</td>\n",
       "      <td>6.48</td>\n",
       "      <td>0.00</td>\n",
       "      <td>0.00</td>\n",
       "      <td>0</td>\n",
       "      <td>0</td>\n",
       "      <td>0.00</td>\n",
       "      <td>0.00</td>\n",
       "      <td>0.0</td>\n",
       "      <td>0.00</td>\n",
       "    </tr>\n",
       "  </tbody>\n",
       "</table>\n",
       "</div>"
      ],
      "text/plain": [
       "         Clicks                 Impressions                    Cost        \\\n",
       "           mean   std amin amax        mean     std amin amax  mean   std   \n",
       "kw                                                                          \n",
       "40555006   0.79  1.20    0    5       19.43   13.83    0   55  0.54  0.89   \n",
       "40555007   2.88  4.28    0   21       96.68  101.93    0  379  1.71  2.59   \n",
       "40555008   0.00  0.00    0    0        0.00    0.00    0    0  0.00  0.00   \n",
       "40555009   0.53  0.74    0    3       14.11    7.50    0   33  0.43  0.61   \n",
       "40555010   1.77  2.09    0   10       61.88   28.49    0  137  1.14  1.40   \n",
       "\n",
       "                     Conversions                 Revenue                      \n",
       "         amin   amax        mean   std amin amax    mean    std amin    amax  \n",
       "kw                                                                            \n",
       "40555006  0.0   4.74        0.00  0.00    0    0    0.00   0.00  0.0    0.00  \n",
       "40555007  0.0  12.72        0.02  0.15    0    1    8.88  59.38  0.0  428.99  \n",
       "40555008  0.0   0.00        0.00  0.00    0    0    0.00   0.00  0.0    0.00  \n",
       "40555009  0.0   2.98        0.00  0.00    0    0    0.00   0.00  0.0    0.00  \n",
       "40555010  0.0   6.48        0.00  0.00    0    0    0.00   0.00  0.0    0.00  "
      ]
     },
     "execution_count": 14,
     "metadata": {},
     "output_type": "execute_result"
    }
   ],
   "source": [
    "columns = ['Clicks', 'Impressions', 'Cost', 'Conversions', 'Revenue']\n",
    "kw_groups = data.groupby(['kw'])[columns].agg([np.mean, np.std, np.min, np.max])\n",
    "kw_groups.head()"
   ]
  },
  {
   "cell_type": "markdown",
   "metadata": {},
   "source": [
    "Для быстрого анализа полезно показать совместное распределение величин"
   ]
  },
  {
   "cell_type": "code",
   "execution_count": 15,
   "metadata": {},
   "outputs": [
    {
     "data": {
      "text/plain": [
       "<matplotlib.collections.PathCollection at 0x1befeb7af70>"
      ]
     },
     "execution_count": 15,
     "metadata": {},
     "output_type": "execute_result"
    },
    {
     "data": {
      "image/png": "[encoded data removed]",
      "text/plain": [
       "<Figure size 432x288 with 1 Axes>"
      ]
     },
     "metadata": {
      "needs_background": "light"
     },
     "output_type": "display_data"
    }
   ],
   "source": [
    "import matplotlib.pyplot as plt\n",
    "\n",
    "plt.scatter(data['Impressions'], data['Cost'])"
   ]
  },
  {
   "cell_type": "code",
   "execution_count": 16,
   "metadata": {},
   "outputs": [
    {
     "data": {
      "text/plain": [
       "<matplotlib.collections.PathCollection at 0x1befebb1460>"
      ]
     },
     "execution_count": 16,
     "metadata": {},
     "output_type": "execute_result"
    },
    {
     "data": {
      "image/png": "[encoded data removed]",
      "text/plain": [
       "<Figure size 432x288 with 1 Axes>"
      ]
     },
     "metadata": {
      "needs_background": "light"
     },
     "output_type": "display_data"
    }
   ],
   "source": [
    "plt.scatter(data['Clicks'], data['Cost'])"
   ]
  },
  {
   "cell_type": "code",
   "execution_count": 17,
   "metadata": {},
   "outputs": [
    {
     "data": {
      "image/png": "[encoded data removed]",
      "text/plain": [
       "<Figure size 900x900 with 30 Axes>"
      ]
     },
     "metadata": {
      "needs_background": "light"
     },
     "output_type": "display_data"
    }
   ],
   "source": [
    "import seaborn as sns\n",
    "features = ['Clicks', 'Impressions', 'Cost', 'Conversions', 'Revenue']\n",
    "sns.pairplot(data[features]);"
   ]
  },
  {
   "cell_type": "markdown",
   "metadata": {},
   "source": [
    "# Модели машинного обучения"
   ]
  },
  {
   "cell_type": "code",
   "execution_count": 19,
   "metadata": {},
   "outputs": [
    {
     "name": "stdout",
     "output_type": "stream",
     "text": [
      "\n",
      "Linear Regression Model\n",
      "Cross Validation Scores:  [0.78285101 0.71290593 0.57803353 0.67617059 0.71183978 0.70570387\n",
      " 0.53489761 0.7366445  0.73105241 0.7664393 ]\n",
      "Mean Squared Error:  1.1288127112321396\n",
      "\n",
      "Random Forest Regressor\n",
      "Cross Validation Scores:  [0.87146775 0.77795829 0.56034852 0.80209991 0.81071763 0.77886803\n",
      " 0.74181807 0.83621321 0.67548226 0.81389499]\n",
      "Mean Squared Error:  1.1639548067394374\n",
      "\n",
      "Lasso Regression Model\n",
      "Cross Validation Scores:  [0.76591591 0.67842704 0.59165045 0.66389751 0.66925138 0.66733912\n",
      " 0.55251042 0.68455627 0.67907489 0.68526235]\n",
      "Mean Squared Error:  0.8719170684864471\n",
      "\n",
      "Gradient Boosting Regressor\n",
      "Cross Validation Scores:  [0.85734586 0.78244776 0.61712423 0.83620166 0.86110431 0.82292654\n",
      " 0.71746843 0.84641054 0.63304237 0.84600295]\n",
      "Mean Squared Error:  1.1660915271258596\n"
     ]
    }
   ],
   "source": [
    "from sklearn import linear_model\n",
    "from sklearn.ensemble import RandomForestRegressor\n",
    "from sklearn.metrics import mean_squared_error\n",
    "from sklearn import svm\n",
    "from sklearn.ensemble import GradientBoostingRegressor\n",
    "from sklearn.model_selection import cross_val_score\n",
    "from sklearn import model_selection\n",
    "from sklearn.model_selection import GridSearchCV\n",
    "\n",
    "x_train_len = round(train.shape[0]*0.75)\n",
    "x_train = train[:x_train_len]\n",
    "x_train.drop(columns=['bid'], inplace=True)\n",
    "x_validation = train[x_train_len:]\n",
    "x_validation.drop(columns=['bid'], inplace=True)\n",
    "y_train = train['bid'][:x_train_len]\n",
    "y_validation = train['bid'][x_train_len:]\n",
    "\n",
    "class Models(object):\n",
    "    \n",
    "    global seed \n",
    "    seed = 34234\n",
    "    \n",
    "    # Initialization \n",
    "    def __init__(self, x_train, x_validation, y_train, y_validation):\n",
    "        self.x_train = [x_train.iloc[i].tolist() for i in range(len(x_train))]\n",
    "        self.x_validation = [x_validation.iloc[i].tolist() for i in range(len(x_validation))]\n",
    "        self.y_train = y_train.tolist()\n",
    "        self.y_validation = y_validation.tolist()\n",
    "    \n",
    "    \n",
    "    @staticmethod\n",
    "    def print_info(cross_val_scores, mse):\n",
    "        print(\"Cross Validation Scores: \", cross_val_scores)\n",
    "        print(\"Mean Squared Error: \", mse)\n",
    "        \n",
    "        \n",
    "    # Linear Regression \n",
    "    def linear_regression(self, x_train, x_validation,  y_train, y_validation):\n",
    "        reg = linear_model.LinearRegression()\n",
    "        reg.fit(self.x_train, self.y_train)\n",
    "        y_pred_list = reg.predict(self.x_validation)\n",
    "        mse = mean_squared_error(self.y_validation, y_pred_list)\n",
    "        kfold = model_selection.KFold(n_splits=10, shuffle=True, random_state=seed)\n",
    "        cross_val_scores = cross_val_score(reg, self.x_train, self.y_train, cv=kfold)\n",
    "        print(\"\\nLinear Regression Model\")\n",
    "        self.print_info(cross_val_scores, mse)\n",
    "        return cross_val_scores, mse, y_pred_list\n",
    "        \n",
    "    # Random Forest Regression model \n",
    "    def random_forest(self, x_train, x_validation,  y_train, y_validation):\n",
    "        rfr = RandomForestRegressor(n_estimators=8, max_depth=8, random_state=12, verbose=0)\n",
    "        rfr.fit(self.x_train, self.y_train)\n",
    "        y_pred_list = rfr.predict(self.x_validation)\n",
    "        mse = mean_squared_error(self.y_validation, y_pred_list)\n",
    "        kfold = model_selection.KFold(n_splits=10, shuffle=True, random_state=seed)\n",
    "        cross_val_scores = cross_val_score(rfr, self.x_train, self.y_train, cv=kfold)\n",
    "        print(\"\\nRandom Forest Regressor\")\n",
    "        self.print_info(cross_val_scores, mse)\n",
    "        return cross_val_scores, mse, y_pred_list\n",
    "            \n",
    "    # Lasso method \n",
    "    def lasso(self, x_train, x_validation,  y_train, y_validation):\n",
    "        reg = linear_model.Lasso(alpha = 0.1)\n",
    "        reg.fit(self.x_train, self.y_train)\n",
    "        y_pred_list = reg.predict(self.x_validation)\n",
    "        mse = mean_squared_error(self.y_validation, y_pred_list)\n",
    "        kfold = model_selection.KFold(n_splits=10, shuffle=True, random_state=seed)\n",
    "        cross_val_scores = cross_val_score(reg, self.x_train, self.y_train, cv=kfold)\n",
    "        print(\"\\nLasso Regression Model\")\n",
    "        self.print_info(cross_val_scores, mse)\n",
    "        return cross_val_scores, mse, y_pred_list\n",
    "    \n",
    "    # Gradient Boosing Regressor\n",
    "    def GBR(self, x_train, x_validation,  y_train, y_validation):\n",
    "        gbr = GradientBoostingRegressor(n_estimators=175, learning_rate=0.08, max_depth=3, random_state=1232, loss='ls')\n",
    "        gbr.fit(self.x_train, self.y_train)\n",
    "        y_pred_list = gbr.predict(self.x_validation)\n",
    "        kfold = model_selection.KFold(n_splits=10, shuffle=True, random_state=seed)\n",
    "        cross_val_scores = cross_val_score(gbr, self.x_train, self.y_train, cv=kfold)\n",
    "        mse = mean_squared_error(self.y_validation, gbr.predict(self.x_validation))\n",
    "        print('\\nGradient Boosting Regressor')\n",
    "        self.print_info(cross_val_scores, mse)\n",
    "        return cross_val_scores, mse, y_pred_list\n",
    "\n",
    "parameters = {\n",
    "    'n_estimators' : [170, 175, 180],\n",
    "    'learning_rate' : [0.075, 0.08, 0.1],\n",
    "    'max_depth' : [2, 3, 4]\n",
    "}\n",
    "\n",
    "gbr = GradientBoostingRegressor(n_estimators=250, learning_rate=0.1, max_depth=5, random_state=232, loss='ls')\n",
    "gs_cv = GridSearchCV(gbr, parameters).fit(x_train, y_train)\n",
    "\n",
    "from types import FunctionType\n",
    "\n",
    "methods = [x for x, y in Models.__dict__.items() if type(y) == FunctionType]\n",
    "methods.remove('__init__')\n",
    "cross_scores_list, mse_list = [], []\n",
    "bid_predicted = []\n",
    "for model in methods:\n",
    "    reg = Models(x_train, x_validation, y_train, y_validation)\n",
    "    cross_val_scores, mse, y_pred_list = getattr(reg, model)(x_train, x_validation, y_train, y_validation)\n",
    "    cross_scores_list.append(cross_val_scores)\n",
    "    mse_list.append(mse)\n",
    "    bid_predicted.append(y_pred_list)"
   ]
  },
  {
   "cell_type": "markdown",
   "metadata": {},
   "source": [
    "Lasso Regression иммет самую низкую среднеквадратическую ошибку."
   ]
  },
  {
   "cell_type": "code",
   "execution_count": 20,
   "metadata": {},
   "outputs": [],
   "source": [
    "lasso_reg = linear_model.Lasso(alpha = 0.1)\n",
    "lasso_reg.fit(x_train, y_train)\n",
    "y_pred_list = lasso_reg.predict(test)"
   ]
  },
  {
   "cell_type": "code",
   "execution_count": 21,
   "metadata": {},
   "outputs": [
    {
     "name": "stdout",
     "output_type": "stream",
     "text": [
      "BidAlgorithm values: 206.28763664524854\n",
      "LassoRegression values: 222.74511981488754\n"
     ]
    }
   ],
   "source": [
    "print('BidAlgorithm values:', sum(bid_algorithm_predicted_bid))\n",
    "print('LassoRegression values:', sum(y_pred_list))"
   ]
  },
  {
   "cell_type": "markdown",
   "metadata": {},
   "source": [
    "По сумме ставок видно, что значения ставок смоделированные Lasso Regression имеют больше шансов на успех за счет более высокого значения.\n",
    "Для сравнения результатов прогнозирования ставки смроделируем значения ставок с помощью cpc2bid скрипта BidAlgorithm и сравним их с прогнозными значениями Lasso Regression."
   ]
  },
  {
   "cell_type": "code",
   "execution_count": 25,
   "metadata": {},
   "outputs": [
    {
     "name": "stdout",
     "output_type": "stream",
     "text": [
      "MSE BidAlgorithm:  0.8615281364369777\n",
      "MSE LassoRegression:  0.5312177797594912\n"
     ]
    }
   ],
   "source": [
    "lassoVsRidge_data = pd.read_excel('LassoVsCpc2Bid.xlsx')\n",
    "x_train_len = round(lassoVsRidge_data.shape[0]*0.75)\n",
    "x_train = lassoVsRidge_data[:x_train_len]\n",
    "x_train.drop(columns=['bid'], inplace=True)\n",
    "x_validation = lassoVsRidge_data[x_train_len:]\n",
    "x_validation.drop(columns=['bid'], inplace=True)\n",
    "y_train = lassoVsRidge_data['bid'][:x_train_len]\n",
    "y_validation = lassoVsRidge_data['bid'][x_train_len:]\n",
    "\n",
    "bidAlgoData = pd.read_excel('predicted_data.xlsx')\n",
    "\n",
    "y_pred_list = lasso_reg.predict(x_validation)\n",
    "y_true = bidAlgoData['true']\n",
    "bid = bidAlgoData['pred']\n",
    "\n",
    "MSEbid = mean_squared_error(bid, y_true)\n",
    "MSElass = mean_squared_error(y_pred_list, y_true)\n",
    "print('MSE BidAlgorithm: ', MSEbid)\n",
    "print('MSE LassoRegression: ', MSElass)"
   ]
  },
  {
   "cell_type": "markdown",
   "metadata": {},
   "source": [
    "Более низкая оценка MSE свидетельствует о том, что алгоритм Lasso Regression лучше справился с прогнозированием значений."
   ]
  }
 ],
 "metadata": {
  "kernelspec": {
   "display_name": "Python 3",
   "language": "python",
   "name": "python3"
  },
  "language_info": {
   "codemirror_mode": {
    "name": "ipython",
    "version": 3
   },
   "file_extension": ".py",
   "mimetype": "text/x-python",
   "name": "python",
   "nbconvert_exporter": "python",
   "pygments_lexer": "ipython3",
   "version": "3.8.3"
  }
 },
 "nbformat": 4,
 "nbformat_minor": 4
}
